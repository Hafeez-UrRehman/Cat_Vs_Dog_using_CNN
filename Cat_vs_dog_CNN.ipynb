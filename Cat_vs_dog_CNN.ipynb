{
  "nbformat": 4,
  "nbformat_minor": 0,
  "metadata": {
    "colab": {
      "provenance": [],
      "gpuType": "T4"
    },
    "kernelspec": {
      "name": "python3",
      "display_name": "Python 3"
    },
    "language_info": {
      "name": "python"
    },
    "accelerator": "GPU"
  },
  "cells": [
    {
      "cell_type": "code",
      "execution_count": null,
      "metadata": {
        "colab": {
          "base_uri": "https://localhost:8080/"
        },
        "id": "w6F_e-6FdNMk",
        "outputId": "50c8f712-d488-4f0d-d845-5ded8643e607"
      },
      "outputs": [
        {
          "output_type": "stream",
          "name": "stdout",
          "text": [
            "cp: cannot stat 'kaggle.json': No such file or directory\n"
          ]
        }
      ],
      "source": [
        "!mkdir -p ~/.kaggle\n",
        "!cp kaggle.json ~/.kaggle/"
      ]
    },
    {
      "cell_type": "code",
      "source": [
        "!kaggle datasets download -d moazeldsokyx/dogs-vs-cats"
      ],
      "metadata": {
        "colab": {
          "base_uri": "https://localhost:8080/"
        },
        "id": "_3wN_2crk6On",
        "outputId": "1cc20052-8168-4bfa-b839-6670f421963d"
      },
      "execution_count": null,
      "outputs": [
        {
          "output_type": "stream",
          "name": "stdout",
          "text": [
            "Dataset URL: https://www.kaggle.com/datasets/moazeldsokyx/dogs-vs-cats\n",
            "License(s): CC0-1.0\n",
            "Downloading dogs-vs-cats.zip to /content\n",
            "100% 813M/817M [00:12<00:00, 88.3MB/s]\n",
            "100% 817M/817M [00:12<00:00, 70.5MB/s]\n"
          ]
        }
      ]
    },
    {
      "cell_type": "code",
      "source": [
        "import zipfile\n",
        "zip_ref = zipfile.ZipFile('/content/dogs-vs-cats.zip', 'r')\n",
        "zip_ref.extractall('/content')\n",
        "zip_ref.close()"
      ],
      "metadata": {
        "id": "AprBEq1Ylp1R"
      },
      "execution_count": null,
      "outputs": []
    },
    {
      "cell_type": "code",
      "source": [
        "import tensorflow as tf\n",
        "from tensorflow import keras\n",
        "from keras import Sequential\n",
        "from keras.layers import Dense, Conv2D, MaxPooling2D, Flatten"
      ],
      "metadata": {
        "id": "WQeJIjWsnIpL"
      },
      "execution_count": null,
      "outputs": []
    },
    {
      "cell_type": "code",
      "source": [
        "train_ds = keras.utils.image_dataset_from_directory(\n",
        "    directory= '/content/dataset/train',\n",
        "    labels = 'inferred',\n",
        "    label_mode = 'int',\n",
        "    batch_size = 32,\n",
        "    image_size = (256, 256)\n",
        ")"
      ],
      "metadata": {
        "colab": {
          "base_uri": "https://localhost:8080/"
        },
        "id": "b8hV-avlnyXd",
        "outputId": "abc3a6b7-44da-473a-a5d8-a7b580b480e4"
      },
      "execution_count": null,
      "outputs": [
        {
          "output_type": "stream",
          "name": "stdout",
          "text": [
            "Found 20000 files belonging to 2 classes.\n"
          ]
        }
      ]
    },
    {
      "cell_type": "code",
      "source": [
        "test_ds = keras.utils.image_dataset_from_directory(\n",
        "    directory= '/content/dataset/test',\n",
        "    labels = 'inferred',\n",
        "    label_mode = 'int',\n",
        "    batch_size = 32,\n",
        "    image_size = (256, 256)\n",
        ")"
      ],
      "metadata": {
        "colab": {
          "base_uri": "https://localhost:8080/"
        },
        "id": "tk1FhwNTqLGu",
        "outputId": "1f713745-3c77-4d37-83b7-00ad5f48f686"
      },
      "execution_count": null,
      "outputs": [
        {
          "output_type": "stream",
          "name": "stdout",
          "text": [
            "Found 12461 files belonging to 2 classes.\n"
          ]
        }
      ]
    },
    {
      "cell_type": "code",
      "source": [
        "def process(image, label):\n",
        "  image=tf.cast(image/255, tf.float32)\n",
        "  return image, label\n",
        "\n",
        "\n",
        "train_ds=train_ds.map(process)\n",
        "test_ds=test_ds.map(process)"
      ],
      "metadata": {
        "id": "jYowPxzCqnZQ"
      },
      "execution_count": null,
      "outputs": []
    },
    {
      "cell_type": "code",
      "source": [
        "model= Sequential()\n",
        "\n",
        "model.add(Conv2D(32, kernel_size=(3,3), padding='valid', activation='relu', input_shape=(256,256,3)))\n",
        "model.add(MaxPooling2D(pool_size=(2,2), strides=2, padding='valid'))\n",
        "\n",
        "model.add(Conv2D(32, kernel_size=(3,3),padding='valid', activation='relu'))\n",
        "model.add(MaxPooling2D(pool_size=(2,2), strides=2, padding='valid'))\n",
        "\n",
        "\n",
        "model.add(Conv2D(32, kernel_size=(3,3),padding='valid', activation='relu'))\n",
        "model.add(MaxPooling2D(pool_size=(2,2), strides=2, padding='valid'))\n",
        "\n",
        "model.add(Flatten())\n",
        "\n",
        "model.add(Dense(128, activation='relu'))\n",
        "model.add(Dense(64, activation='relu'))\n",
        "model.add(Dense(1, activation='sigmoid'))\n",
        "\n",
        "\n"
      ],
      "metadata": {
        "id": "0P78-60s_udG"
      },
      "execution_count": null,
      "outputs": []
    },
    {
      "cell_type": "code",
      "source": [
        "model.summary()"
      ],
      "metadata": {
        "colab": {
          "base_uri": "https://localhost:8080/"
        },
        "id": "g-7AhTlBDZhm",
        "outputId": "369fd43b-e6e3-4f3d-cd83-ade9c2a17698"
      },
      "execution_count": null,
      "outputs": [
        {
          "output_type": "stream",
          "name": "stdout",
          "text": [
            "Model: \"sequential\"\n",
            "_________________________________________________________________\n",
            " Layer (type)                Output Shape              Param #   \n",
            "=================================================================\n",
            " conv2d (Conv2D)             (None, 254, 254, 32)      896       \n",
            "                                                                 \n",
            " max_pooling2d (MaxPooling2  (None, 127, 127, 32)      0         \n",
            " D)                                                              \n",
            "                                                                 \n",
            " conv2d_1 (Conv2D)           (None, 125, 125, 32)      9248      \n",
            "                                                                 \n",
            " max_pooling2d_1 (MaxPoolin  (None, 62, 62, 32)        0         \n",
            " g2D)                                                            \n",
            "                                                                 \n",
            " conv2d_2 (Conv2D)           (None, 60, 60, 32)        9248      \n",
            "                                                                 \n",
            " max_pooling2d_2 (MaxPoolin  (None, 30, 30, 32)        0         \n",
            " g2D)                                                            \n",
            "                                                                 \n",
            " flatten (Flatten)           (None, 28800)             0         \n",
            "                                                                 \n",
            " dense (Dense)               (None, 128)               3686528   \n",
            "                                                                 \n",
            " dense_1 (Dense)             (None, 64)                8256      \n",
            "                                                                 \n",
            " dense_2 (Dense)             (None, 1)                 65        \n",
            "                                                                 \n",
            "=================================================================\n",
            "Total params: 3714241 (14.17 MB)\n",
            "Trainable params: 3714241 (14.17 MB)\n",
            "Non-trainable params: 0 (0.00 Byte)\n",
            "_________________________________________________________________\n"
          ]
        }
      ]
    },
    {
      "cell_type": "code",
      "source": [
        "model.compile(optimizer='adam', loss='binary_crossentropy', metrics=['accuracy'])"
      ],
      "metadata": {
        "id": "JngpX0DxDe-W"
      },
      "execution_count": null,
      "outputs": []
    },
    {
      "cell_type": "code",
      "source": [
        "model= model.fit(train_ds, epochs=10, validation_data=test_ds)"
      ],
      "metadata": {
        "colab": {
          "base_uri": "https://localhost:8080/"
        },
        "id": "DODwgcmTDmGy",
        "outputId": "907c0cc6-b295-4fdd-f46f-4cbd89578275"
      },
      "execution_count": null,
      "outputs": [
        {
          "output_type": "stream",
          "name": "stdout",
          "text": [
            "Epoch 1/10\n",
            "625/625 [==============================] - 67s 92ms/step - loss: 0.5896 - accuracy: 0.6739 - val_loss: 0.5037 - val_accuracy: 0.7521\n",
            "Epoch 2/10\n",
            "625/625 [==============================] - 54s 86ms/step - loss: 0.4584 - accuracy: 0.7771 - val_loss: 0.4623 - val_accuracy: 0.7768\n",
            "Epoch 3/10\n",
            "625/625 [==============================] - 55s 87ms/step - loss: 0.3613 - accuracy: 0.8353 - val_loss: 0.4516 - val_accuracy: 0.7994\n",
            "Epoch 4/10\n",
            "625/625 [==============================] - 79s 125ms/step - loss: 0.2500 - accuracy: 0.8931 - val_loss: 0.5744 - val_accuracy: 0.7933\n",
            "Epoch 5/10\n",
            "625/625 [==============================] - 54s 86ms/step - loss: 0.1386 - accuracy: 0.9448 - val_loss: 0.7837 - val_accuracy: 0.7808\n",
            "Epoch 6/10\n",
            "625/625 [==============================] - 58s 92ms/step - loss: 0.0773 - accuracy: 0.9712 - val_loss: 0.9385 - val_accuracy: 0.7858\n",
            "Epoch 7/10\n",
            "625/625 [==============================] - 54s 86ms/step - loss: 0.0594 - accuracy: 0.9793 - val_loss: 1.1246 - val_accuracy: 0.7917\n",
            "Epoch 8/10\n",
            "625/625 [==============================] - 60s 95ms/step - loss: 0.0490 - accuracy: 0.9837 - val_loss: 1.0700 - val_accuracy: 0.7963\n",
            "Epoch 9/10\n",
            "625/625 [==============================] - 55s 88ms/step - loss: 0.0421 - accuracy: 0.9869 - val_loss: 1.1055 - val_accuracy: 0.7972\n",
            "Epoch 10/10\n",
            "625/625 [==============================] - 57s 90ms/step - loss: 0.0366 - accuracy: 0.9891 - val_loss: 1.0916 - val_accuracy: 0.7844\n"
          ]
        }
      ]
    },
    {
      "cell_type": "code",
      "source": [
        "from google.colab import drive\n",
        "drive.mount('/content/drive')"
      ],
      "metadata": {
        "id": "tkK6-iSEg8LN"
      },
      "execution_count": null,
      "outputs": []
    },
    {
      "cell_type": "code",
      "source": [],
      "metadata": {
        "id": "BNKfg9-rEYJF"
      },
      "execution_count": null,
      "outputs": []
    }
  ]
}